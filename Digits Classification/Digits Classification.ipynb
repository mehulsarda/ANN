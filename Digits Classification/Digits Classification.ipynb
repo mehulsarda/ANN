{
 "cells": [
  {
   "cell_type": "code",
   "execution_count": 1,
   "id": "9f305b44",
   "metadata": {},
   "outputs": [],
   "source": [
    "import tensorflow as tf\n",
    "from tensorflow import keras\n",
    "import matplotlib.pyplot as plt\n",
    "%matplotlib inline\n",
    "import numpy as np"
   ]
  },
  {
   "cell_type": "code",
   "execution_count": 2,
   "id": "46efe4d3",
   "metadata": {},
   "outputs": [],
   "source": [
    "(x_train, y_train) , (x_test, y_test) = keras.datasets.mnist.load_data()"
   ]
  },
  {
   "cell_type": "code",
   "execution_count": 3,
   "id": "a74fe229",
   "metadata": {},
   "outputs": [
    {
     "data": {
      "text/plain": [
       "60000"
      ]
     },
     "execution_count": 3,
     "metadata": {},
     "output_type": "execute_result"
    }
   ],
   "source": [
    "len(x_train)"
   ]
  },
  {
   "cell_type": "code",
   "execution_count": 4,
   "id": "6a178673",
   "metadata": {},
   "outputs": [
    {
     "data": {
      "text/plain": [
       "10000"
      ]
     },
     "execution_count": 4,
     "metadata": {},
     "output_type": "execute_result"
    }
   ],
   "source": [
    "len(x_test)"
   ]
  },
  {
   "cell_type": "code",
   "execution_count": 5,
   "id": "4c5786d7",
   "metadata": {},
   "outputs": [
    {
     "data": {
      "text/plain": [
       "(28, 28)"
      ]
     },
     "execution_count": 5,
     "metadata": {},
     "output_type": "execute_result"
    }
   ],
   "source": [
    "x_train[0].shape"
   ]
  },
  {
   "cell_type": "code",
   "execution_count": 6,
   "id": "b222a559",
   "metadata": {},
   "outputs": [],
   "source": [
    "# x_train[0]"
   ]
  },
  {
   "cell_type": "code",
   "execution_count": 7,
   "id": "616bd051",
   "metadata": {
    "scrolled": true
   },
   "outputs": [
    {
     "data": {
      "text/plain": [
       "<matplotlib.image.AxesImage at 0x29e07203f10>"
      ]
     },
     "execution_count": 7,
     "metadata": {},
     "output_type": "execute_result"
    },
    {
     "data": {
      "image/png": "[encoded data removed]",
      "text/plain": [
       "<Figure size 288x288 with 1 Axes>"
      ]
     },
     "metadata": {
      "needs_background": "light"
     },
     "output_type": "display_data"
    }
   ],
   "source": [
    "plt.matshow(x_train[5000])"
   ]
  },
  {
   "cell_type": "code",
   "execution_count": 8,
   "id": "58aac6f4",
   "metadata": {},
   "outputs": [
    {
     "data": {
      "text/plain": [
       "7"
      ]
     },
     "execution_count": 8,
     "metadata": {},
     "output_type": "execute_result"
    }
   ],
   "source": [
    "y_train[5000]"
   ]
  },
  {
   "cell_type": "code",
   "execution_count": 9,
   "id": "1ef86f72",
   "metadata": {},
   "outputs": [
    {
     "data": {
      "text/plain": [
       "(60000, 28, 28)"
      ]
     },
     "execution_count": 9,
     "metadata": {},
     "output_type": "execute_result"
    }
   ],
   "source": [
    "x_train.shape"
   ]
  },
  {
   "cell_type": "code",
   "execution_count": 10,
   "id": "2a3eeac4",
   "metadata": {},
   "outputs": [],
   "source": [
    "x_train = x_train/255\n",
    "x_test = x_test/255"
   ]
  },
  {
   "cell_type": "code",
   "execution_count": 11,
   "id": "a2cfcbf4",
   "metadata": {},
   "outputs": [
    {
     "data": {
      "text/plain": [
       "(60000, 784)"
      ]
     },
     "execution_count": 11,
     "metadata": {},
     "output_type": "execute_result"
    }
   ],
   "source": [
    "x_train_flattned = x_train.reshape(len(x_train),28*28)\n",
    "x_test_flattned = x_test.reshape(len(x_test),28*28)\n",
    "x_train_flattned.shape"
   ]
  },
  {
   "cell_type": "code",
   "execution_count": 12,
   "id": "f8849185",
   "metadata": {},
   "outputs": [
    {
     "data": {
      "text/plain": [
       "(10000, 784)"
      ]
     },
     "execution_count": 12,
     "metadata": {},
     "output_type": "execute_result"
    }
   ],
   "source": [
    "x_test_flattned.shape"
   ]
  },
  {
   "cell_type": "code",
   "execution_count": 13,
   "id": "3fd60637",
   "metadata": {},
   "outputs": [
    {
     "name": "stdout",
     "output_type": "stream",
     "text": [
      "Epoch 1/5\n",
      "1875/1875 [==============================] - 4s 2ms/step - loss: 0.4646 - accuracy: 0.8805\n",
      "Epoch 2/5\n",
      "1875/1875 [==============================] - 3s 2ms/step - loss: 0.3029 - accuracy: 0.9155\n",
      "Epoch 3/5\n",
      "1875/1875 [==============================] - 3s 2ms/step - loss: 0.2831 - accuracy: 0.9211\n",
      "Epoch 4/5\n",
      "1875/1875 [==============================] - 3s 2ms/step - loss: 0.2730 - accuracy: 0.9238\n",
      "Epoch 5/5\n",
      "1875/1875 [==============================] - 3s 2ms/step - loss: 0.2658 - accuracy: 0.9261\n"
     ]
    },
    {
     "data": {
      "text/plain": [
       "<tensorflow.python.keras.callbacks.History at 0x29e46517cd0>"
      ]
     },
     "execution_count": 13,
     "metadata": {},
     "output_type": "execute_result"
    }
   ],
   "source": [
    "model = keras.Sequential([\n",
    "    keras.layers.Dense(10, input_shape=(784,), activation='sigmoid')\n",
    "])\n",
    "\n",
    "model.compile(optimizer='adam',loss='sparse_categorical_crossentropy',metrics=['accuracy'])\n",
    "\n",
    "model.fit(x_train_flattned,y_train,epochs=5)"
   ]
  },
  {
   "cell_type": "code",
   "execution_count": 14,
   "id": "b5c43d40",
   "metadata": {},
   "outputs": [
    {
     "name": "stdout",
     "output_type": "stream",
     "text": [
      "313/313 [==============================] - 1s 1ms/step - loss: 0.2670 - accuracy: 0.9249\n"
     ]
    },
    {
     "data": {
      "text/plain": [
       "[0.2670022249221802, 0.9248999953269958]"
      ]
     },
     "execution_count": 14,
     "metadata": {},
     "output_type": "execute_result"
    }
   ],
   "source": [
    "model.evaluate(x_test_flattned,y_test)"
   ]
  },
  {
   "cell_type": "code",
   "execution_count": 15,
   "id": "cd687cb6",
   "metadata": {},
   "outputs": [
    {
     "data": {
      "text/plain": [
       "<matplotlib.image.AxesImage at 0x29ee25f9610>"
      ]
     },
     "execution_count": 15,
     "metadata": {},
     "output_type": "execute_result"
    },
    {
     "data": {
      "image/png": "[encoded data removed]",
      "text/plain": [
       "<Figure size 288x288 with 1 Axes>"
      ]
     },
     "metadata": {
      "needs_background": "light"
     },
     "output_type": "display_data"
    }
   ],
   "source": [
    "plt.matshow(x_test[0])"
   ]
  },
  {
   "cell_type": "code",
   "execution_count": 16,
   "id": "673bfc4d",
   "metadata": {},
   "outputs": [
    {
     "data": {
      "text/plain": [
       "array([2.3072496e-02, 2.4720302e-07, 4.6883710e-02, 9.6365774e-01,\n",
       "       3.1539181e-03, 1.5815161e-01, 2.3872074e-06, 9.9986565e-01,\n",
       "       1.0035964e-01, 7.1157235e-01], dtype=float32)"
      ]
     },
     "execution_count": 16,
     "metadata": {},
     "output_type": "execute_result"
    }
   ],
   "source": [
    "y_predicted = model.predict(x_test_flattned)\n",
    "y_predicted[0]"
   ]
  },
  {
   "cell_type": "code",
   "execution_count": 17,
   "id": "3fd1c868",
   "metadata": {},
   "outputs": [
    {
     "data": {
      "text/plain": [
       "7"
      ]
     },
     "execution_count": 17,
     "metadata": {},
     "output_type": "execute_result"
    }
   ],
   "source": [
    "np.argmax(y_predicted[0])"
   ]
  },
  {
   "cell_type": "code",
   "execution_count": 18,
   "id": "267dd1e2",
   "metadata": {},
   "outputs": [
    {
     "data": {
      "text/plain": [
       "[7, 2, 1, 0, 4]"
      ]
     },
     "execution_count": 18,
     "metadata": {},
     "output_type": "execute_result"
    }
   ],
   "source": [
    "y_predicted_lables = [np.argmax(i) for i in y_predicted]\n",
    "y_predicted_lables[:5]"
   ]
  },
  {
   "cell_type": "code",
   "execution_count": 19,
   "id": "542159e7",
   "metadata": {},
   "outputs": [],
   "source": [
    "cm = tf.math.confusion_matrix(labels=y_test,\n",
    "    predictions=y_predicted_lables)"
   ]
  },
  {
   "cell_type": "code",
   "execution_count": 20,
   "id": "e08b755e",
   "metadata": {},
   "outputs": [
    {
     "data": {
      "text/plain": [
       "<tf.Tensor: shape=(10, 10), dtype=int32, numpy=\n",
       "array([[ 961,    0,    0,    2,    0,    5,    9,    2,    1,    0],\n",
       "       [   0, 1109,    3,    2,    0,    2,    4,    2,   13,    0],\n",
       "       [   8,    8,  919,   17,    8,    5,   13,   11,   39,    4],\n",
       "       [   4,    0,   17,  918,    0,   27,    3,   13,   21,    7],\n",
       "       [   1,    1,    2,    1,  919,    0,   13,    4,   10,   31],\n",
       "       [   8,    2,    2,   28,    9,  786,   15,    6,   30,    6],\n",
       "       [  11,    3,    3,    1,    7,   11,  918,    2,    2,    0],\n",
       "       [   1,    5,   20,    6,    7,    0,    0,  957,    4,   28],\n",
       "       [   7,    6,    6,   24,    9,   30,   10,   14,  858,   10],\n",
       "       [  11,    7,    1,    9,   32,    9,    0,   33,    3,  904]])>"
      ]
     },
     "execution_count": 20,
     "metadata": {},
     "output_type": "execute_result"
    }
   ],
   "source": [
    "cm"
   ]
  },
  {
   "cell_type": "code",
   "execution_count": 21,
   "id": "2a6c3245",
   "metadata": {},
   "outputs": [
    {
     "data": {
      "text/plain": [
       "Text(69.0, 0.5, 'Truth')"
      ]
     },
     "execution_count": 21,
     "metadata": {},
     "output_type": "execute_result"
    },
    {
     "data": {
      "image/png": "[encoded data removed]",
      "text/plain": [
       "<Figure size 720x504 with 2 Axes>"
      ]
     },
     "metadata": {
      "needs_background": "light"
     },
     "output_type": "display_data"
    }
   ],
   "source": [
    "import seaborn as sn\n",
    "plt.figure(figsize=(10,7))\n",
    "sn.heatmap(cm,annot=True,fmt='d')\n",
    "plt.xlabel('Predicted')\n",
    "plt.ylabel(\"Truth\")"
   ]
  },
  {
   "cell_type": "code",
   "execution_count": 22,
   "id": "3933843d",
   "metadata": {},
   "outputs": [
    {
     "name": "stdout",
     "output_type": "stream",
     "text": [
      "Epoch 1/5\n",
      "1875/1875 [==============================] - 4s 2ms/step - loss: 0.2661 - accuracy: 0.9244\n",
      "Epoch 2/5\n",
      "1875/1875 [==============================] - 4s 2ms/step - loss: 0.1182 - accuracy: 0.9651\n",
      "Epoch 3/5\n",
      "1875/1875 [==============================] - 4s 2ms/step - loss: 0.0831 - accuracy: 0.9752: 0s -\n",
      "Epoch 4/5\n",
      "1875/1875 [==============================] - 4s 2ms/step - loss: 0.0640 - accuracy: 0.9805\n",
      "Epoch 5/5\n",
      "1875/1875 [==============================] - 4s 2ms/step - loss: 0.0508 - accuracy: 0.9843: 0s -\n"
     ]
    },
    {
     "data": {
      "text/plain": [
       "<tensorflow.python.keras.callbacks.History at 0x29f008c6dc0>"
      ]
     },
     "execution_count": 22,
     "metadata": {},
     "output_type": "execute_result"
    }
   ],
   "source": [
    "model = keras.Sequential([\n",
    "    keras.layers.Dense(100, input_shape=(784,), activation='relu'),\n",
    "    keras.layers.Dense(10, activation='sigmoid')\n",
    "])\n",
    "\n",
    "model.compile(optimizer='adam',loss='sparse_categorical_crossentropy',metrics=['accuracy'])\n",
    "\n",
    "model.fit(x_train_flattned,y_train,epochs=5)"
   ]
  },
  {
   "cell_type": "code",
   "execution_count": 23,
   "id": "d255330f",
   "metadata": {},
   "outputs": [
    {
     "name": "stdout",
     "output_type": "stream",
     "text": [
      "313/313 [==============================] - 1s 2ms/step - loss: 0.0744 - accuracy: 0.9769\n"
     ]
    },
    {
     "data": {
      "text/plain": [
       "[0.07439757883548737, 0.9768999814987183]"
      ]
     },
     "execution_count": 23,
     "metadata": {},
     "output_type": "execute_result"
    }
   ],
   "source": [
    "model.evaluate(x_test_flattned,y_test)"
   ]
  },
  {
   "cell_type": "code",
   "execution_count": 52,
   "id": "00e51b85",
   "metadata": {},
   "outputs": [
    {
     "name": "stdout",
     "output_type": "stream",
     "text": [
      "Epoch 1/20\n",
      "2000/2000 [==============================] - 6s 3ms/step - loss: 0.2462 - accuracy: 0.9241\n",
      "Epoch 2/20\n",
      "2000/2000 [==============================] - 6s 3ms/step - loss: 0.1288 - accuracy: 0.9598\n",
      "Epoch 3/20\n",
      "2000/2000 [==============================] - 6s 3ms/step - loss: 0.1020 - accuracy: 0.9684\n",
      "Epoch 4/20\n",
      "2000/2000 [==============================] - 6s 3ms/step - loss: 0.0876 - accuracy: 0.9725\n",
      "Epoch 5/20\n",
      "2000/2000 [==============================] - 6s 3ms/step - loss: 0.0793 - accuracy: 0.9762\n",
      "Epoch 6/20\n",
      "2000/2000 [==============================] - 6s 3ms/step - loss: 0.0710 - accuracy: 0.9785\n",
      "Epoch 7/20\n",
      "2000/2000 [==============================] - 6s 3ms/step - loss: 0.0657 - accuracy: 0.9806\n",
      "Epoch 8/20\n",
      "2000/2000 [==============================] - 6s 3ms/step - loss: 0.0620 - accuracy: 0.9815\n",
      "Epoch 9/20\n",
      "2000/2000 [==============================] - 6s 3ms/step - loss: 0.0602 - accuracy: 0.9819\n",
      "Epoch 10/20\n",
      "2000/2000 [==============================] - 6s 3ms/step - loss: 0.0564 - accuracy: 0.9832\n",
      "Epoch 11/20\n",
      "2000/2000 [==============================] - 6s 3ms/step - loss: 0.0574 - accuracy: 0.9837\n",
      "Epoch 12/20\n",
      "2000/2000 [==============================] - 6s 3ms/step - loss: 0.0504 - accuracy: 0.9850\n",
      "Epoch 13/20\n",
      "2000/2000 [==============================] - 6s 3ms/step - loss: 0.0532 - accuracy: 0.9847: 0s - loss: 0.0524 - ac - ETA: 0s - loss: 0.0\n",
      "Epoch 14/20\n",
      "2000/2000 [==============================] - 6s 3ms/step - loss: 0.0488 - accuracy: 0.9856\n",
      "Epoch 15/20\n",
      "2000/2000 [==============================] - 6s 3ms/step - loss: 0.0469 - accuracy: 0.9861\n",
      "Epoch 16/20\n",
      "2000/2000 [==============================] - 6s 3ms/step - loss: 0.0460 - accuracy: 0.9874: 0s -\n",
      "Epoch 17/20\n",
      "2000/2000 [==============================] - 6s 3ms/step - loss: 0.0472 - accuracy: 0.9871: 0s - loss:\n",
      "Epoch 18/20\n",
      "2000/2000 [==============================] - 6s 3ms/step - loss: 0.0426 - accuracy: 0.9881\n",
      "Epoch 19/20\n",
      "2000/2000 [==============================] - 6s 3ms/step - loss: 0.0450 - accuracy: 0.9882\n",
      "Epoch 20/20\n",
      "2000/2000 [==============================] - 6s 3ms/step - loss: 0.0424 - accuracy: 0.9885\n"
     ]
    },
    {
     "data": {
      "text/plain": [
       "<tensorflow.python.keras.callbacks.History at 0x29ed6fffc10>"
      ]
     },
     "execution_count": 52,
     "metadata": {},
     "output_type": "execute_result"
    }
   ],
   "source": [
    "model = keras.Sequential([\n",
    "    keras.layers.Flatten(input_shape=(28,28)),\n",
    "    keras.layers.Dense(500, kernel_initializer='he_normal' ,activation='relu'),\n",
    "    keras.layers.Dropout(0.3),\n",
    "    keras.layers.Dense(600, kernel_initializer='he_uniform' ,activation='relu'),\n",
    "    keras.layers.Dropout(0.35),\n",
    "    keras.layers.Dense(10, kernel_initializer='glorot_uniform' ,activation='sigmoid')\n",
    "])\n",
    "\n",
    "model.compile(optimizer='adam',loss='sparse_categorical_crossentropy',metrics=['accuracy'])\n",
    "\n",
    "model.fit(x_train,y_train,epochs=20,batch_size=30)"
   ]
  },
  {
   "cell_type": "code",
   "execution_count": 53,
   "id": "12c294e1",
   "metadata": {},
   "outputs": [
    {
     "name": "stdout",
     "output_type": "stream",
     "text": [
      "313/313 [==============================] - 1s 2ms/step - loss: 0.0988 - accuracy: 0.9821\n"
     ]
    },
    {
     "data": {
      "text/plain": [
       "[0.09878633171319962, 0.9821000099182129]"
      ]
     },
     "execution_count": 53,
     "metadata": {},
     "output_type": "execute_result"
    }
   ],
   "source": [
    "model.evaluate(x_test,y_test)"
   ]
  },
  {
   "cell_type": "code",
   "execution_count": 54,
   "id": "576a463f",
   "metadata": {},
   "outputs": [
    {
     "data": {
      "text/plain": [
       "7"
      ]
     },
     "execution_count": 54,
     "metadata": {},
     "output_type": "execute_result"
    }
   ],
   "source": [
    "y_predicted = model.predict(x_test)\n",
    "y_predicted[0]\n",
    "np.argmax(y_predicted[0])"
   ]
  },
  {
   "cell_type": "code",
   "execution_count": null,
   "id": "c122b173",
   "metadata": {},
   "outputs": [],
   "source": []
  }
 ],
 "metadata": {
  "kernelspec": {
   "display_name": "Python 3",
   "language": "python",
   "name": "python3"
  },
  "language_info": {
   "codemirror_mode": {
    "name": "ipython",
    "version": 3
   },
   "file_extension": ".py",
   "mimetype": "text/x-python",
   "name": "python",
   "nbconvert_exporter": "python",
   "pygments_lexer": "ipython3",
   "version": "3.8.6"
  }
 },
 "nbformat": 4,
 "nbformat_minor": 5
}
